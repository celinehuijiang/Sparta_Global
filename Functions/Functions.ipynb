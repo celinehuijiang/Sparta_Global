{
 "cells": [
  {
   "cell_type": "code",
   "execution_count": 5,
   "metadata": {},
   "outputs": [
    {
     "name": "stdout",
     "output_type": "stream",
     "text": [
      "Hello Celine, your age is 100\n"
     ]
    }
   ],
   "source": [
    "# to create a function \n",
    "def greeting(name: str, age:{int}): # specfiy data types\n",
    "    return f\"Hello {name}, your age is {age}\"\n",
    "\n",
    "print(greeting(\"Celine\", 100))"
   ]
  },
  {
   "cell_type": "code",
   "execution_count": 8,
   "metadata": {},
   "outputs": [
    {
     "name": "stdout",
     "output_type": "stream",
     "text": [
      "Hello Celine, your age is 200\n"
     ]
    }
   ],
   "source": [
    "# default value for age \n",
    "# to create a function \n",
    "def greeting(name: str, age:{int} = 200): # specfiy data types\n",
    "    return f\"Hello {name}, your age is {age}\"\n",
    "\n",
    "print(greeting(\"Celine\")) # only fill in name parameter\n",
    "\n",
    "#have to be at the end every time\n",
    "#reason as filling in don't tend to specify the parameter\n",
    "#put it in the different function "
   ]
  },
  {
   "cell_type": "code",
   "execution_count": 168,
   "metadata": {},
   "outputs": [
    {
     "name": "stdout",
     "output_type": "stream",
     "text": [
      "\n",
      "Q1a\n",
      "\n",
      "[1, 2, 3, 4, 6, 12]\n"
     ]
    }
   ],
   "source": [
    "print(\"\\nQ1a\\n\")\n",
    "# Q1a: Write a function which takes in an integer as an argument and returns the divisors of that number as a list\n",
    "# e.g. f(12) = [1, 2, 3, 4, 6, 12]\n",
    "# hint: range(1, n) returns a collection of the numbers from 1 to n-1\n",
    "# A1a:\n",
    "def get_divisors(num):\n",
    "    divisors = []\n",
    "    for i in range (1,num + 1): #num + 1 - will be 13\n",
    "        if num % i == 0:\n",
    "            divisors.append(i)\n",
    "    return divisors\n",
    "\n",
    "print(get_divisors(12))"
   ]
  },
  {
   "cell_type": "code",
   "execution_count": 167,
   "metadata": {},
   "outputs": [
    {
     "name": "stdout",
     "output_type": "stream",
     "text": [
      "\n",
      "Q1b\n",
      "\n",
      "[1, 2, 3, 5, 6, 10, 15, 30]\n"
     ]
    }
   ],
   "source": [
    "print(\"\\nQ1b\\n\")\n",
    "# Q1b: Write a function which takes in two integers as arguments and returns true if one of the numbers is a factor of the other, false otherwise\n",
    "# (bonus points if you call your previous function within this function\n",
    "\n",
    "# A1b:\n",
    "def get_divisors(num):\n",
    "    divisors = []\n",
    "    for i in range (1,num + 1): #num + 1 in order to get 30 \n",
    "        if num % i == 0:\n",
    "            divisors.append(i)\n",
    "    return divisors\n",
    "\n",
    "def factor(num1, num2):\n",
    "    if num1 in get_divisors:\n",
    "        return True\n",
    "    if num2 in get_divisors:\n",
    "        return True\n",
    "    return False\n",
    "\n",
    "print(get_divisors(30))\n"
   ]
  },
  {
   "cell_type": "code",
   "execution_count": 166,
   "metadata": {},
   "outputs": [
    {
     "name": "stdout",
     "output_type": "stream",
     "text": [
      "\n",
      "Q2a\n",
      "\n",
      "[0, 1, 2, 3, 4, 5, 6, 7, 8, 9, 10, 11, 12, 13, 14, 15, 16, 17, 18, 19, 20, 21, 22, 23, 24, 25, 26]\n"
     ]
    }
   ],
   "source": [
    "print(\"\\nQ2a\\n\")\n",
    "# Q2a: write a function which takes a letter (as a string) as an input and outputs it's position in the alphabet\n",
    "alphabet = [\"a\", \"b\", \"c\", \"d\", \"e\", \"f\", \"g\", \"h\", \"i\", \"j\", \"k\", \"l\", \"m\",\n",
    "            \"n\", \"o\", \"p\", \"q\", \"r\", \"s\", \"t\", \"u\", \"v\", \"w\", \"x\", \"y\", \"z\", \" \"]\n",
    "\n",
    "# A2a:\n",
    "def letters_positions(name: str):\n",
    "    positions = []\n",
    "    for letter in name:\n",
    "        positions.append(alphabet.index(letter))\n",
    "    return positions\n",
    "\n",
    "print(letters_positions(alphabet))"
   ]
  },
  {
   "cell_type": "code",
   "execution_count": 165,
   "metadata": {},
   "outputs": [
    {
     "name": "stdout",
     "output_type": "stream",
     "text": [
      "\n",
      "Q2b\n",
      "\n",
      "1141\n"
     ]
    }
   ],
   "source": [
    "print(\"\\nQ2b\\n\")\n",
    "# Q2b: create a function which takes a persons name as an input string and returns an\n",
    "# ID number consisting of the positions of each letter in the name\n",
    "# e.g. f(\"bob\") = \"1141\" as \"b\" is in position 1 and \"o\" is in position 14\n",
    "\n",
    "# A2b:\n",
    "alphabet = [\"a\", \"b\", \"c\", \"d\", \"e\", \"f\", \"g\", \"h\", \"i\", \"j\", \"k\", \"l\", \"m\",\n",
    "            \"n\", \"o\", \"p\", \"q\", \"r\", \"s\", \"t\", \"u\", \"v\", \"w\", \"x\", \"y\", \"z\", \" \"]\n",
    "\n",
    "def letters_positions(name: str):\n",
    "    positions = []\n",
    "    for letter in name:\n",
    "        positions.append(str(alphabet.index(letter)))\n",
    "    return positions\n",
    "\n",
    "def ID_number(name: str):\n",
    "    return ''.join(letters_positions(name))\n",
    "\n",
    "print(ID_number(\"bob\"))\n",
    " "
   ]
  },
  {
   "cell_type": "code",
   "execution_count": 169,
   "metadata": {},
   "outputs": [
    {
     "name": "stdout",
     "output_type": "stream",
     "text": [
      "1134\n"
     ]
    }
   ],
   "source": [
    "# Q2c: Create a function which turns this ID into a password. The function should subtract\n",
    "# the sum of the numbers in the id that was generated from the whole number of the id.\n",
    "# e.g. f(\"bob\") -> 1134 (because bob's id was 1141 and 1+1+4+1 = 7 so 1141 - 7 = 1134)\n",
    "\n",
    "# A2c: \n",
    "alphabet = [\"a\", \"b\", \"c\", \"d\", \"e\", \"f\", \"g\", \"h\", \"i\", \"j\", \"k\", \"l\", \"m\",\n",
    "            \"n\", \"o\", \"p\", \"q\", \"r\", \"s\", \"t\", \"u\", \"v\", \"w\", \"x\", \"y\", \"z\", \" \"]\n",
    "\n",
    "def letters_positions(name: str):\n",
    "    positions = []\n",
    "    for letter in name:\n",
    "        positions.append(str(alphabet.index(letter)))\n",
    "    return positions\n",
    "\n",
    "def ID_number(name: str):\n",
    "    return ''.join(letters_positions(name))\n",
    "\n",
    "def password_generator(name: str):\n",
    "    integer_value = int(ID_number(name))\n",
    "    integer_list = [int(num) for num in ID_number(name)]\n",
    "    sum_integers = sum(integer_list)\n",
    "    password=integer_value-sum_integers\n",
    "    return password\n",
    "\n",
    "print(password_generator('bob'))\n"
   ]
  },
  {
   "cell_type": "code",
   "execution_count": 170,
   "metadata": {},
   "outputs": [
    {
     "name": "stdout",
     "output_type": "stream",
     "text": [
      "combined_string:1141\n",
      "integer_value:\t1141\n",
      "integer_list:\t[1, 1, 4, 1]\n",
      "sum_integers:\t7\n",
      "Password:\t1134\n"
     ]
    }
   ],
   "source": [
    "# method 2\n",
    "alphabet = [\"a\", \"b\", \"c\", \"d\", \"e\", \"f\", \"g\", \"h\", \"i\", \"j\", \"k\", \"l\", \"m\",\n",
    "            \"n\", \"o\", \"p\", \"q\", \"r\", \"s\", \"t\", \"u\", \"v\", \"w\", \"x\", \"y\", \"z\", \" \"]\n",
    "\n",
    "# The defined password() will process following logical sequences\n",
    "#=================================================================\n",
    "# Step1: 'bob' --->  '1', '14', '1'\n",
    "# Step2: '1', '14', '1' ---> 1141\n",
    "# Step3: 1+1+4+1 ---> 7\n",
    "# Step4: 1141-7 ---> 1134\n",
    "#=================================================================\n",
    "\n",
    "def password(name: str):\n",
    "    # Step1: 'bob' --->  '1', '14', '1'\n",
    "    positions = []\n",
    "    for letter in name:\n",
    "        positions.append(str(alphabet.index(letter)))\n",
    "\n",
    "    # Step2: '1', '14', '1' ---> 1141\n",
    "    combined_string = ''.join(positions)\n",
    "    integer_value = int(combined_string)\n",
    "    print(f\"combined_string:{combined_string}\")\n",
    "    print(f\"integer_value:\\t{integer_value}\")\n",
    "\n",
    "    # Step3: 1+1+4+1 ---> 7 (list comphrension)\n",
    "    integer_list = [int(num) for num in combined_string]\n",
    "    sum_integers = sum(integer_list)\n",
    "    print(f\"integer_list:\\t{integer_list}\")\n",
    "    print(f\"sum_integers:\\t{sum_integers}\")\n",
    "    \n",
    "    # Step4: 1141-7 ---> 1134\n",
    "    password=integer_value-sum_integers\n",
    "    return password\n",
    "\n",
    "print(f\"Password:\\t{password('bob')}\")"
   ]
  },
  {
   "cell_type": "code",
   "execution_count": 171,
   "metadata": {},
   "outputs": [
    {
     "name": "stdout",
     "output_type": "stream",
     "text": [
      "\n",
      "Q3a\n",
      "\n",
      "5 is prime.\n"
     ]
    }
   ],
   "source": [
    "print(\"\\nQ3a\\n\")\n",
    "# Q3a: Write a function which takes an integer as an input, and returns true if the number is prime, false otherwise.\n",
    "\n",
    "# A3a:\n",
    "def is_prime(number: int):\n",
    "    if number < 2:\n",
    "        return False\n",
    "    for i in range(2, int(number ** 0.5) + 1):\n",
    "        if number % i == 0:\n",
    "            return False\n",
    "    return True\n",
    "\n",
    "# Take input from the user\n",
    "user_input = input(\"Enter a number: \")\n",
    "number = int(user_input)\n",
    "\n",
    "# Call the is_prime function with the user input\n",
    "result = is_prime(number)\n",
    "\n",
    "# Display the result\n",
    "if result:\n",
    "    print(f\"{number} is prime.\")\n",
    "else:\n",
    "    print(f\"{number} is not prime.\")\n",
    "      "
   ]
  },
  {
   "cell_type": "code",
   "execution_count": 186,
   "metadata": {},
   "outputs": [
    {
     "name": "stdout",
     "output_type": "stream",
     "text": [
      "\n",
      "Q3b\n",
      "\n",
      "Invalid input. Please enter a valid integer.\n"
     ]
    }
   ],
   "source": [
    "print(\"\\nQ3b\\n\")\n",
    "# Q3b: Now add some functionality to the function which does not error if the user inputs something other than a digit\n",
    "\n",
    "# A3b:\n",
    "def is_prime(number: int):\n",
    "    if number < 2:\n",
    "        return False\n",
    "    for i in range(2, int(number ** 0.5) + 1):\n",
    "        if number % i == 0:\n",
    "            return False\n",
    "    return True\n",
    "\n",
    "# Take input from the user\n",
    "user_input = input(\"Enter a number: \")\n",
    "\n",
    "try:\n",
    "    number = int(user_input)\n",
    "    result = is_prime(number)\n",
    "    if result:\n",
    "        print(f\"{number} is prime.\")\n",
    "    else:\n",
    "        print(f\"{number} is not prime.\")\n",
    "except ValueError:\n",
    "    print(\"Invalid input. Please enter a valid integer.\")\n"
   ]
  },
  {
   "attachments": {},
   "cell_type": "markdown",
   "metadata": {},
   "source": [
    "### *Prime number identification*\n",
    "---\n",
    "- A prime number is a whole number greater than 1 whose only factors are 1 and itself. \n",
    "- A factor is a whole number that can be divided evenly into another number. \n",
    "- The first few prime numbers are 2, 3, 5, 7, 11, 13, 17, 19, 23 and 29. Numbers that have more than two factors are called composite numbers\n",
    "\n",
    "- *`Q3a: Write a function which takes an integer as an input, and returns true if the number is prime, false otherwise.`*\n",
    "- *`Q3b: Now add some functionality to the function which does not error if the user inputs something other than a digit.`*"
   ]
  },
  {
   "cell_type": "code",
   "execution_count": 181,
   "metadata": {},
   "outputs": [
    {
     "ename": "SyntaxError",
     "evalue": "invalid syntax (3878633592.py, line 30)",
     "output_type": "error",
     "traceback": [
      "\u001b[0;36m  Cell \u001b[0;32mIn[181], line 30\u001b[0;36m\u001b[0m\n\u001b[0;31m    except ValueError:\u001b[0m\n\u001b[0m    ^\u001b[0m\n\u001b[0;31mSyntaxError\u001b[0m\u001b[0;31m:\u001b[0m invalid syntax\n"
     ]
    }
   ],
   "source": [
    "def is_prime(number: int):\n",
    "    # 2 is the least prime number, only 1 is less than 2, but 1 is not a prime, return False\n",
    "    if number < 2:\n",
    "        return False\n",
    "    \n",
    "    for i in range(2, int(number ** 0.5) + 1):\n",
    "\n",
    "        # check if the number is divided i has remainder\n",
    "        if number % i == 0:\n",
    "            return False\n",
    "    return True\n",
    "\n",
    "# input box\n",
    "number=int(input('Enter integer greater than 2 (0 to quit function):'))\n",
    "\n",
    "while number ==1 or not isinstance(number, int) or number <0:\n",
    "    print(f\"You have entered invalid number: {number}\")\n",
    "    number=int(input('Enter integer greater than 2 (0 to quit function):'))\n",
    "\n",
    "print(f\"You have eneterd valid number: {number}, thanks you\")\n",
    "\n",
    "result = is_prime(number)\n",
    "\n",
    "# Display the result\n",
    "if result:\n",
    "    print(f\"{number} is prime.\")\n",
    "else:\n",
    "    print(f\"{number} is not prime.\") \n",
    "\n",
    "except ValueError:\n",
    "    print(\"Invalid input. Please enter a valid integer.\")"
   ]
  }
 ],
 "metadata": {
  "kernelspec": {
   "display_name": "Python 3",
   "language": "python",
   "name": "python3"
  },
  "language_info": {
   "codemirror_mode": {
    "name": "ipython",
    "version": 3
   },
   "file_extension": ".py",
   "mimetype": "text/x-python",
   "name": "python",
   "nbconvert_exporter": "python",
   "pygments_lexer": "ipython3",
   "version": "3.10.10"
  },
  "orig_nbformat": 4
 },
 "nbformat": 4,
 "nbformat_minor": 2
}
